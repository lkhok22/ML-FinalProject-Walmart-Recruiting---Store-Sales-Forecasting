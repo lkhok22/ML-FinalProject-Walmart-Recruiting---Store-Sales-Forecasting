{
 "cells": [
  {
   "cell_type": "code",
   "execution_count": 1,
   "id": "3424606d",
   "metadata": {
    "execution": {
     "iopub.execute_input": "2025-07-06T15:07:18.278048Z",
     "iopub.status.busy": "2025-07-06T15:07:18.277725Z",
     "iopub.status.idle": "2025-07-06T15:07:31.825502Z",
     "shell.execute_reply": "2025-07-06T15:07:31.824383Z"
    },
    "papermill": {
     "duration": 13.555223,
     "end_time": "2025-07-06T15:07:31.827111",
     "exception": false,
     "start_time": "2025-07-06T15:07:18.271888",
     "status": "completed"
    },
    "tags": []
   },
   "outputs": [
    {
     "name": "stdout",
     "output_type": "stream",
     "text": [
      "Collecting mlflow\r\n",
      "  Downloading mlflow-3.1.1-py3-none-any.whl.metadata (29 kB)\r\n",
      "Collecting mlflow-skinny==3.1.1 (from mlflow)\r\n",
      "  Downloading mlflow_skinny-3.1.1-py3-none-any.whl.metadata (30 kB)\r\n",
      "Requirement already satisfied: Flask<4 in /usr/local/lib/python3.11/dist-packages (from mlflow) (3.1.0)\r\n",
      "Requirement already satisfied: alembic!=1.10.0,<2 in /usr/local/lib/python3.11/dist-packages (from mlflow) (1.15.2)\r\n",
      "Requirement already satisfied: docker<8,>=4.0.0 in /usr/local/lib/python3.11/dist-packages (from mlflow) (7.1.0)\r\n",
      "Collecting graphene<4 (from mlflow)\r\n",
      "  Downloading graphene-3.4.3-py2.py3-none-any.whl.metadata (6.9 kB)\r\n",
      "Collecting gunicorn<24 (from mlflow)\r\n",
      "  Downloading gunicorn-23.0.0-py3-none-any.whl.metadata (4.4 kB)\r\n",
      "Requirement already satisfied: matplotlib<4 in /usr/local/lib/python3.11/dist-packages (from mlflow) (3.7.2)\r\n",
      "Requirement already satisfied: numpy<3 in /usr/local/lib/python3.11/dist-packages (from mlflow) (1.26.4)\r\n",
      "Requirement already satisfied: pandas<3 in /usr/local/lib/python3.11/dist-packages (from mlflow) (2.2.3)\r\n",
      "Requirement already satisfied: pyarrow<21,>=4.0.0 in /usr/local/lib/python3.11/dist-packages (from mlflow) (19.0.1)\r\n",
      "Requirement already satisfied: scikit-learn<2 in /usr/local/lib/python3.11/dist-packages (from mlflow) (1.2.2)\r\n",
      "Requirement already satisfied: scipy<2 in /usr/local/lib/python3.11/dist-packages (from mlflow) (1.15.2)\r\n",
      "Requirement already satisfied: sqlalchemy<3,>=1.4.0 in /usr/local/lib/python3.11/dist-packages (from mlflow) (2.0.40)\r\n",
      "Requirement already satisfied: cachetools<7,>=5.0.0 in /usr/local/lib/python3.11/dist-packages (from mlflow-skinny==3.1.1->mlflow) (5.5.2)\r\n",
      "Requirement already satisfied: click<9,>=7.0 in /usr/local/lib/python3.11/dist-packages (from mlflow-skinny==3.1.1->mlflow) (8.1.8)\r\n",
      "Requirement already satisfied: cloudpickle<4 in /usr/local/lib/python3.11/dist-packages (from mlflow-skinny==3.1.1->mlflow) (3.1.1)\r\n",
      "Collecting databricks-sdk<1,>=0.20.0 (from mlflow-skinny==3.1.1->mlflow)\r\n",
      "  Downloading databricks_sdk-0.57.0-py3-none-any.whl.metadata (39 kB)\r\n",
      "Collecting fastapi<1 (from mlflow-skinny==3.1.1->mlflow)\r\n",
      "  Downloading fastapi-0.115.14-py3-none-any.whl.metadata (27 kB)\r\n",
      "Requirement already satisfied: gitpython<4,>=3.1.9 in /usr/local/lib/python3.11/dist-packages (from mlflow-skinny==3.1.1->mlflow) (3.1.44)\r\n",
      "Requirement already satisfied: importlib_metadata!=4.7.0,<9,>=3.7.0 in /usr/local/lib/python3.11/dist-packages (from mlflow-skinny==3.1.1->mlflow) (8.7.0)\r\n",
      "Requirement already satisfied: opentelemetry-api<3,>=1.9.0 in /usr/local/lib/python3.11/dist-packages (from mlflow-skinny==3.1.1->mlflow) (1.31.1)\r\n",
      "Requirement already satisfied: opentelemetry-sdk<3,>=1.9.0 in /usr/local/lib/python3.11/dist-packages (from mlflow-skinny==3.1.1->mlflow) (1.31.1)\r\n",
      "Requirement already satisfied: packaging<26 in /usr/local/lib/python3.11/dist-packages (from mlflow-skinny==3.1.1->mlflow) (25.0)\r\n",
      "Requirement already satisfied: protobuf<7,>=3.12.0 in /usr/local/lib/python3.11/dist-packages (from mlflow-skinny==3.1.1->mlflow) (3.20.3)\r\n",
      "Requirement already satisfied: pydantic<3,>=1.10.8 in /usr/local/lib/python3.11/dist-packages (from mlflow-skinny==3.1.1->mlflow) (2.11.4)\r\n",
      "Requirement already satisfied: pyyaml<7,>=5.1 in /usr/local/lib/python3.11/dist-packages (from mlflow-skinny==3.1.1->mlflow) (6.0.2)\r\n",
      "Requirement already satisfied: requests<3,>=2.17.3 in /usr/local/lib/python3.11/dist-packages (from mlflow-skinny==3.1.1->mlflow) (2.32.3)\r\n",
      "Requirement already satisfied: sqlparse<1,>=0.4.0 in /usr/local/lib/python3.11/dist-packages (from mlflow-skinny==3.1.1->mlflow) (0.5.3)\r\n",
      "Requirement already satisfied: typing-extensions<5,>=4.0.0 in /usr/local/lib/python3.11/dist-packages (from mlflow-skinny==3.1.1->mlflow) (4.13.2)\r\n",
      "Collecting uvicorn<1 (from mlflow-skinny==3.1.1->mlflow)\r\n",
      "  Downloading uvicorn-0.35.0-py3-none-any.whl.metadata (6.5 kB)\r\n",
      "Requirement already satisfied: Mako in /usr/local/lib/python3.11/dist-packages (from alembic!=1.10.0,<2->mlflow) (1.3.10)\r\n",
      "Requirement already satisfied: urllib3>=1.26.0 in /usr/local/lib/python3.11/dist-packages (from docker<8,>=4.0.0->mlflow) (2.4.0)\r\n",
      "Requirement already satisfied: Werkzeug>=3.1 in /usr/local/lib/python3.11/dist-packages (from Flask<4->mlflow) (3.1.3)\r\n",
      "Requirement already satisfied: Jinja2>=3.1.2 in /usr/local/lib/python3.11/dist-packages (from Flask<4->mlflow) (3.1.6)\r\n",
      "Requirement already satisfied: itsdangerous>=2.2 in /usr/local/lib/python3.11/dist-packages (from Flask<4->mlflow) (2.2.0)\r\n",
      "Requirement already satisfied: blinker>=1.9 in /usr/local/lib/python3.11/dist-packages (from Flask<4->mlflow) (1.9.0)\r\n",
      "Collecting graphql-core<3.3,>=3.1 (from graphene<4->mlflow)\r\n",
      "  Downloading graphql_core-3.2.6-py3-none-any.whl.metadata (11 kB)\r\n",
      "Collecting graphql-relay<3.3,>=3.1 (from graphene<4->mlflow)\r\n",
      "  Downloading graphql_relay-3.2.0-py3-none-any.whl.metadata (12 kB)\r\n",
      "Requirement already satisfied: python-dateutil<3,>=2.7.0 in /usr/local/lib/python3.11/dist-packages (from graphene<4->mlflow) (2.9.0.post0)\r\n",
      "Requirement already satisfied: contourpy>=1.0.1 in /usr/local/lib/python3.11/dist-packages (from matplotlib<4->mlflow) (1.3.1)\r\n",
      "Requirement already satisfied: cycler>=0.10 in /usr/local/lib/python3.11/dist-packages (from matplotlib<4->mlflow) (0.12.1)\r\n",
      "Requirement already satisfied: fonttools>=4.22.0 in /usr/local/lib/python3.11/dist-packages (from matplotlib<4->mlflow) (4.57.0)\r\n",
      "Requirement already satisfied: kiwisolver>=1.0.1 in /usr/local/lib/python3.11/dist-packages (from matplotlib<4->mlflow) (1.4.8)\r\n",
      "Requirement already satisfied: pillow>=6.2.0 in /usr/local/lib/python3.11/dist-packages (from matplotlib<4->mlflow) (11.1.0)\r\n",
      "Requirement already satisfied: pyparsing<3.1,>=2.3.1 in /usr/local/lib/python3.11/dist-packages (from matplotlib<4->mlflow) (3.0.9)\r\n",
      "Requirement already satisfied: mkl_fft in /usr/local/lib/python3.11/dist-packages (from numpy<3->mlflow) (1.3.8)\r\n",
      "Requirement already satisfied: mkl_random in /usr/local/lib/python3.11/dist-packages (from numpy<3->mlflow) (1.2.4)\r\n",
      "Requirement already satisfied: mkl_umath in /usr/local/lib/python3.11/dist-packages (from numpy<3->mlflow) (0.1.1)\r\n",
      "Requirement already satisfied: mkl in /usr/local/lib/python3.11/dist-packages (from numpy<3->mlflow) (2025.1.0)\r\n",
      "Requirement already satisfied: tbb4py in /usr/local/lib/python3.11/dist-packages (from numpy<3->mlflow) (2022.1.0)\r\n",
      "Requirement already satisfied: mkl-service in /usr/local/lib/python3.11/dist-packages (from numpy<3->mlflow) (2.4.1)\r\n",
      "Requirement already satisfied: pytz>=2020.1 in /usr/local/lib/python3.11/dist-packages (from pandas<3->mlflow) (2025.2)\r\n",
      "Requirement already satisfied: tzdata>=2022.7 in /usr/local/lib/python3.11/dist-packages (from pandas<3->mlflow) (2025.2)\r\n",
      "Requirement already satisfied: joblib>=1.1.1 in /usr/local/lib/python3.11/dist-packages (from scikit-learn<2->mlflow) (1.5.0)\r\n",
      "Requirement already satisfied: threadpoolctl>=2.0.0 in /usr/local/lib/python3.11/dist-packages (from scikit-learn<2->mlflow) (3.6.0)\r\n",
      "Requirement already satisfied: greenlet>=1 in /usr/local/lib/python3.11/dist-packages (from sqlalchemy<3,>=1.4.0->mlflow) (3.1.1)\r\n",
      "Requirement already satisfied: google-auth~=2.0 in /usr/local/lib/python3.11/dist-packages (from databricks-sdk<1,>=0.20.0->mlflow-skinny==3.1.1->mlflow) (2.40.1)\r\n",
      "Collecting starlette<0.47.0,>=0.40.0 (from fastapi<1->mlflow-skinny==3.1.1->mlflow)\r\n",
      "  Downloading starlette-0.46.2-py3-none-any.whl.metadata (6.2 kB)\r\n",
      "Requirement already satisfied: gitdb<5,>=4.0.1 in /usr/local/lib/python3.11/dist-packages (from gitpython<4,>=3.1.9->mlflow-skinny==3.1.1->mlflow) (4.0.12)\r\n",
      "Requirement already satisfied: zipp>=3.20 in /usr/local/lib/python3.11/dist-packages (from importlib_metadata!=4.7.0,<9,>=3.7.0->mlflow-skinny==3.1.1->mlflow) (3.21.0)\r\n",
      "Requirement already satisfied: MarkupSafe>=2.0 in /usr/local/lib/python3.11/dist-packages (from Jinja2>=3.1.2->Flask<4->mlflow) (3.0.2)\r\n",
      "Requirement already satisfied: deprecated>=1.2.6 in /usr/local/lib/python3.11/dist-packages (from opentelemetry-api<3,>=1.9.0->mlflow-skinny==3.1.1->mlflow) (1.2.18)\r\n",
      "Collecting importlib_metadata!=4.7.0,<9,>=3.7.0 (from mlflow-skinny==3.1.1->mlflow)\r\n",
      "  Downloading importlib_metadata-8.6.1-py3-none-any.whl.metadata (4.7 kB)\r\n",
      "Requirement already satisfied: opentelemetry-semantic-conventions==0.52b1 in /usr/local/lib/python3.11/dist-packages (from opentelemetry-sdk<3,>=1.9.0->mlflow-skinny==3.1.1->mlflow) (0.52b1)\r\n",
      "Requirement already satisfied: annotated-types>=0.6.0 in /usr/local/lib/python3.11/dist-packages (from pydantic<3,>=1.10.8->mlflow-skinny==3.1.1->mlflow) (0.7.0)\r\n",
      "Requirement already satisfied: pydantic-core==2.33.2 in /usr/local/lib/python3.11/dist-packages (from pydantic<3,>=1.10.8->mlflow-skinny==3.1.1->mlflow) (2.33.2)\r\n",
      "Requirement already satisfied: typing-inspection>=0.4.0 in /usr/local/lib/python3.11/dist-packages (from pydantic<3,>=1.10.8->mlflow-skinny==3.1.1->mlflow) (0.4.0)\r\n",
      "Requirement already satisfied: six>=1.5 in /usr/local/lib/python3.11/dist-packages (from python-dateutil<3,>=2.7.0->graphene<4->mlflow) (1.17.0)\r\n",
      "Requirement already satisfied: charset-normalizer<4,>=2 in /usr/local/lib/python3.11/dist-packages (from requests<3,>=2.17.3->mlflow-skinny==3.1.1->mlflow) (3.4.2)\r\n",
      "Requirement already satisfied: idna<4,>=2.5 in /usr/local/lib/python3.11/dist-packages (from requests<3,>=2.17.3->mlflow-skinny==3.1.1->mlflow) (3.10)\r\n",
      "Requirement already satisfied: certifi>=2017.4.17 in /usr/local/lib/python3.11/dist-packages (from requests<3,>=2.17.3->mlflow-skinny==3.1.1->mlflow) (2025.4.26)\r\n",
      "Requirement already satisfied: h11>=0.8 in /usr/local/lib/python3.11/dist-packages (from uvicorn<1->mlflow-skinny==3.1.1->mlflow) (0.14.0)\r\n",
      "Requirement already satisfied: intel-openmp<2026,>=2024 in /usr/local/lib/python3.11/dist-packages (from mkl->numpy<3->mlflow) (2024.2.0)\r\n",
      "Requirement already satisfied: tbb==2022.* in /usr/local/lib/python3.11/dist-packages (from mkl->numpy<3->mlflow) (2022.1.0)\r\n",
      "Requirement already satisfied: tcmlib==1.* in /usr/local/lib/python3.11/dist-packages (from tbb==2022.*->mkl->numpy<3->mlflow) (1.3.0)\r\n",
      "Requirement already satisfied: intel-cmplr-lib-rt in /usr/local/lib/python3.11/dist-packages (from mkl_umath->numpy<3->mlflow) (2024.2.0)\r\n",
      "Requirement already satisfied: wrapt<2,>=1.10 in /usr/local/lib/python3.11/dist-packages (from deprecated>=1.2.6->opentelemetry-api<3,>=1.9.0->mlflow-skinny==3.1.1->mlflow) (1.17.2)\r\n",
      "Requirement already satisfied: smmap<6,>=3.0.1 in /usr/local/lib/python3.11/dist-packages (from gitdb<5,>=4.0.1->gitpython<4,>=3.1.9->mlflow-skinny==3.1.1->mlflow) (5.0.2)\r\n",
      "Requirement already satisfied: pyasn1-modules>=0.2.1 in /usr/local/lib/python3.11/dist-packages (from google-auth~=2.0->databricks-sdk<1,>=0.20.0->mlflow-skinny==3.1.1->mlflow) (0.4.2)\r\n",
      "Requirement already satisfied: rsa<5,>=3.1.4 in /usr/local/lib/python3.11/dist-packages (from google-auth~=2.0->databricks-sdk<1,>=0.20.0->mlflow-skinny==3.1.1->mlflow) (4.9.1)\r\n",
      "Requirement already satisfied: intel-cmplr-lib-ur==2024.2.0 in /usr/local/lib/python3.11/dist-packages (from intel-openmp<2026,>=2024->mkl->numpy<3->mlflow) (2024.2.0)\r\n",
      "Requirement already satisfied: anyio<5,>=3.6.2 in /usr/local/lib/python3.11/dist-packages (from starlette<0.47.0,>=0.40.0->fastapi<1->mlflow-skinny==3.1.1->mlflow) (4.9.0)\r\n",
      "Requirement already satisfied: sniffio>=1.1 in /usr/local/lib/python3.11/dist-packages (from anyio<5,>=3.6.2->starlette<0.47.0,>=0.40.0->fastapi<1->mlflow-skinny==3.1.1->mlflow) (1.3.1)\r\n",
      "Requirement already satisfied: pyasn1<0.7.0,>=0.6.1 in /usr/local/lib/python3.11/dist-packages (from pyasn1-modules>=0.2.1->google-auth~=2.0->databricks-sdk<1,>=0.20.0->mlflow-skinny==3.1.1->mlflow) (0.6.1)\r\n",
      "Downloading mlflow-3.1.1-py3-none-any.whl (24.7 MB)\r\n",
      "\u001b[2K   \u001b[90m━━━━━━━━━━━━━━━━━━━━━━━━━━━━━━━━━━━━━━━━\u001b[0m \u001b[32m24.7/24.7 MB\u001b[0m \u001b[31m54.4 MB/s\u001b[0m eta \u001b[36m0:00:00\u001b[0m\r\n",
      "\u001b[?25hDownloading mlflow_skinny-3.1.1-py3-none-any.whl (1.9 MB)\r\n",
      "\u001b[2K   \u001b[90m━━━━━━━━━━━━━━━━━━━━━━━━━━━━━━━━━━━━━━━━\u001b[0m \u001b[32m1.9/1.9 MB\u001b[0m \u001b[31m59.0 MB/s\u001b[0m eta \u001b[36m0:00:00\u001b[0m\r\n",
      "\u001b[?25hDownloading graphene-3.4.3-py2.py3-none-any.whl (114 kB)\r\n",
      "\u001b[2K   \u001b[90m━━━━━━━━━━━━━━━━━━━━━━━━━━━━━━━━━━━━━━━━\u001b[0m \u001b[32m114.9/114.9 kB\u001b[0m \u001b[31m6.4 MB/s\u001b[0m eta \u001b[36m0:00:00\u001b[0m\r\n",
      "\u001b[?25hDownloading gunicorn-23.0.0-py3-none-any.whl (85 kB)\r\n",
      "\u001b[2K   \u001b[90m━━━━━━━━━━━━━━━━━━━━━━━━━━━━━━━━━━━━━━━━\u001b[0m \u001b[32m85.0/85.0 kB\u001b[0m \u001b[31m4.5 MB/s\u001b[0m eta \u001b[36m0:00:00\u001b[0m\r\n",
      "\u001b[?25hDownloading databricks_sdk-0.57.0-py3-none-any.whl (733 kB)\r\n",
      "\u001b[2K   \u001b[90m━━━━━━━━━━━━━━━━━━━━━━━━━━━━━━━━━━━━━━━━\u001b[0m \u001b[32m733.8/733.8 kB\u001b[0m \u001b[31m30.7 MB/s\u001b[0m eta \u001b[36m0:00:00\u001b[0m\r\n",
      "\u001b[?25hDownloading fastapi-0.115.14-py3-none-any.whl (95 kB)\r\n",
      "\u001b[2K   \u001b[90m━━━━━━━━━━━━━━━━━━━━━━━━━━━━━━━━━━━━━━━━\u001b[0m \u001b[32m95.5/95.5 kB\u001b[0m \u001b[31m5.8 MB/s\u001b[0m eta \u001b[36m0:00:00\u001b[0m\r\n",
      "\u001b[?25hDownloading graphql_core-3.2.6-py3-none-any.whl (203 kB)\r\n",
      "\u001b[2K   \u001b[90m━━━━━━━━━━━━━━━━━━━━━━━━━━━━━━━━━━━━━━━━\u001b[0m \u001b[32m203.4/203.4 kB\u001b[0m \u001b[31m12.2 MB/s\u001b[0m eta \u001b[36m0:00:00\u001b[0m\r\n",
      "\u001b[?25hDownloading graphql_relay-3.2.0-py3-none-any.whl (16 kB)\r\n",
      "Downloading importlib_metadata-8.6.1-py3-none-any.whl (26 kB)\r\n",
      "Downloading uvicorn-0.35.0-py3-none-any.whl (66 kB)\r\n",
      "\u001b[2K   \u001b[90m━━━━━━━━━━━━━━━━━━━━━━━━━━━━━━━━━━━━━━━━\u001b[0m \u001b[32m66.4/66.4 kB\u001b[0m \u001b[31m2.4 MB/s\u001b[0m eta \u001b[36m0:00:00\u001b[0m\r\n",
      "\u001b[?25hDownloading starlette-0.46.2-py3-none-any.whl (72 kB)\r\n",
      "\u001b[2K   \u001b[90m━━━━━━━━━━━━━━━━━━━━━━━━━━━━━━━━━━━━━━━━\u001b[0m \u001b[32m72.0/72.0 kB\u001b[0m \u001b[31m4.6 MB/s\u001b[0m eta \u001b[36m0:00:00\u001b[0m\r\n",
      "\u001b[?25hInstalling collected packages: uvicorn, importlib_metadata, gunicorn, graphql-core, starlette, graphql-relay, graphene, fastapi, databricks-sdk, mlflow-skinny, mlflow\r\n",
      "  Attempting uninstall: importlib_metadata\r\n",
      "    Found existing installation: importlib_metadata 8.7.0\r\n",
      "    Uninstalling importlib_metadata-8.7.0:\r\n",
      "      Successfully uninstalled importlib_metadata-8.7.0\r\n",
      "\u001b[31mERROR: pip's dependency resolver does not currently take into account all the packages that are installed. This behaviour is the source of the following dependency conflicts.\r\n",
      "cesium 0.12.4 requires numpy<3.0,>=2.0, but you have numpy 1.26.4 which is incompatible.\u001b[0m\u001b[31m\r\n",
      "\u001b[0mSuccessfully installed databricks-sdk-0.57.0 fastapi-0.115.14 graphene-3.4.3 graphql-core-3.2.6 graphql-relay-3.2.0 gunicorn-23.0.0 importlib_metadata-8.6.1 mlflow-3.1.1 mlflow-skinny-3.1.1 starlette-0.46.2 uvicorn-0.35.0\r\n",
      "Note: you may need to restart the kernel to use updated packages.\n"
     ]
    }
   ],
   "source": [
    "%pip install -U mlflow"
   ]
  },
  {
   "cell_type": "code",
   "execution_count": 2,
   "id": "42d8b3c7",
   "metadata": {
    "execution": {
     "iopub.execute_input": "2025-07-06T15:07:31.841316Z",
     "iopub.status.busy": "2025-07-06T15:07:31.840483Z",
     "iopub.status.idle": "2025-07-06T15:07:53.249171Z",
     "shell.execute_reply": "2025-07-06T15:07:53.248102Z"
    },
    "papermill": {
     "duration": 21.417581,
     "end_time": "2025-07-06T15:07:53.251246",
     "exception": false,
     "start_time": "2025-07-06T15:07:31.833665",
     "status": "completed"
    },
    "tags": []
   },
   "outputs": [
    {
     "name": "stdout",
     "output_type": "stream",
     "text": [
      "\u001b[2K   \u001b[90m━━━━━━━━━━━━━━━━━━━━━━━━━━━━━━━━━━━━━━━━\u001b[0m \u001b[32m261.0/261.0 kB\u001b[0m \u001b[31m9.2 MB/s\u001b[0m eta \u001b[36m0:00:00\u001b[0m\r\n",
      "\u001b[2K   \u001b[90m━━━━━━━━━━━━━━━━━━━━━━━━━━━━━━━━━━━━━━━━\u001b[0m \u001b[32m74.3/74.3 kB\u001b[0m \u001b[31m2.7 MB/s\u001b[0m eta \u001b[36m0:00:00\u001b[0m\r\n",
      "\u001b[?25h\u001b[31mERROR: pip's dependency resolver does not currently take into account all the packages that are installed. This behaviour is the source of the following dependency conflicts.\r\n",
      "ydata-profiling 4.16.1 requires dacite>=1.8, but you have dacite 1.6.0 which is incompatible.\u001b[0m\u001b[31m\r\n",
      "\u001b[0mNote: you may need to restart the kernel to use updated packages.\n"
     ]
    },
    {
     "data": {
      "text/html": [
       "<pre style=\"white-space:pre;overflow-x:auto;line-height:normal;font-family:Menlo,'DejaVu Sans Mono',consolas,'Courier New',monospace\">                                       <span style=\"font-weight: bold\">❗❗❗ AUTHORIZATION REQUIRED ❗❗❗</span>                                        \n",
       "</pre>\n"
      ],
      "text/plain": [
       "                                       \u001b[1m❗❗❗ AUTHORIZATION REQUIRED ❗❗❗\u001b[0m                                        \n"
      ]
     },
     "metadata": {},
     "output_type": "display_data"
    },
    {
     "name": "stdout",
     "output_type": "stream",
     "text": [
      "\n",
      "\n",
      "Open the following link in your browser to authorize the client:\n",
      "https://dagshub.com/login/oauth/authorize?state=3ac3a9ef-cdaf-40c7-bd1b-2e69fe087df4&client_id=32b60ba385aa7cecf24046d8195a71c07dd345d9657977863b52e7748e0f0f28&middleman_request_id=614108edc7f00b36eff1cd2ea4e4750d7a4e88880183a431dddba95367c9929b\n",
      "\n",
      "\n"
     ]
    },
    {
     "data": {
      "application/vnd.jupyter.widget-view+json": {
       "model_id": "a773be6cc9b64dafa29f32083ba840d0",
       "version_major": 2,
       "version_minor": 0
      },
      "text/plain": [
       "Output()"
      ]
     },
     "metadata": {},
     "output_type": "display_data"
    },
    {
     "data": {
      "text/html": [
       "<pre style=\"white-space:pre;overflow-x:auto;line-height:normal;font-family:Menlo,'DejaVu Sans Mono',consolas,'Courier New',monospace\"></pre>\n"
      ],
      "text/plain": []
     },
     "metadata": {},
     "output_type": "display_data"
    },
    {
     "data": {
      "text/html": [
       "<pre style=\"white-space:pre;overflow-x:auto;line-height:normal;font-family:Menlo,'DejaVu Sans Mono',consolas,'Courier New',monospace\">Accessing as AleksandreBakhtadze\n",
       "</pre>\n"
      ],
      "text/plain": [
       "Accessing as AleksandreBakhtadze\n"
      ]
     },
     "metadata": {},
     "output_type": "display_data"
    },
    {
     "data": {
      "text/html": [
       "<pre style=\"white-space:pre;overflow-x:auto;line-height:normal;font-family:Menlo,'DejaVu Sans Mono',consolas,'Courier New',monospace\">Initialized MLflow to track repo <span style=\"color: #008000; text-decoration-color: #008000\">\"AleksandreBakhtadze/ML-FinalProject-Walmart-Recruiting---Store-Sales-Forecasting\"</span>\n",
       "</pre>\n"
      ],
      "text/plain": [
       "Initialized MLflow to track repo \u001b[32m\"AleksandreBakhtadze/ML-FinalProject-Walmart-Recruiting---Store-Sales-Forecasting\"\u001b[0m\n"
      ]
     },
     "metadata": {},
     "output_type": "display_data"
    },
    {
     "data": {
      "text/html": [
       "<pre style=\"white-space:pre;overflow-x:auto;line-height:normal;font-family:Menlo,'DejaVu Sans Mono',consolas,'Courier New',monospace\">Repository AleksandreBakhtadze/ML-FinalProject-Walmart-Recruiting---Store-Sales-Forecasting initialized!\n",
       "</pre>\n"
      ],
      "text/plain": [
       "Repository AleksandreBakhtadze/ML-FinalProject-Walmart-Recruiting---Store-Sales-Forecasting initialized!\n"
      ]
     },
     "metadata": {},
     "output_type": "display_data"
    }
   ],
   "source": [
    "# Install required logging tools\n",
    "%pip install -q dagshub \n",
    "\n",
    "# Initialize DagsHub MLflow integration\n",
    "import dagshub\n",
    "dagshub.init(repo_owner='AleksandreBakhtadze', repo_name='ML-FinalProject-Walmart-Recruiting---Store-Sales-Forecasting', mlflow=True)\n",
    "\n",
    "# Optional autologging (commented since you're manually logging below)\n",
    "# import mlflow\n",
    "# mlflow.autolog()\n"
   ]
  },
  {
   "cell_type": "code",
   "execution_count": 3,
   "id": "1c3e51d3",
   "metadata": {
    "_cell_guid": "b1076dfc-b9ad-4769-8c92-a6c4dae69d19",
    "_uuid": "8f2839f25d086af736a60e9eeb907d3b93b6e0e5",
    "execution": {
     "iopub.execute_input": "2025-07-06T15:07:53.658856Z",
     "iopub.status.busy": "2025-07-06T15:07:53.658583Z",
     "iopub.status.idle": "2025-07-06T15:07:55.746576Z",
     "shell.execute_reply": "2025-07-06T15:07:55.745670Z"
    },
    "papermill": {
     "duration": 2.484897,
     "end_time": "2025-07-06T15:07:55.748026",
     "exception": false,
     "start_time": "2025-07-06T15:07:53.263129",
     "status": "completed"
    },
    "tags": []
   },
   "outputs": [
    {
     "name": "stdout",
     "output_type": "stream",
     "text": [
      "/kaggle/input/walmart-recruiting-store-sales-forecasting/train.csv.zip\n",
      "/kaggle/input/walmart-recruiting-store-sales-forecasting/sampleSubmission.csv.zip\n",
      "/kaggle/input/walmart-recruiting-store-sales-forecasting/stores.csv\n",
      "/kaggle/input/walmart-recruiting-store-sales-forecasting/features.csv.zip\n",
      "/kaggle/input/walmart-recruiting-store-sales-forecasting/test.csv.zip\n"
     ]
    }
   ],
   "source": [
    "# This Python 3 environment comes with many helpful analytics libraries installed\n",
    "# It is defined by the kaggle/python Docker image: https://github.com/kaggle/docker-python\n",
    "# For example, here's several helpful packages to load\n",
    "\n",
    "import numpy as np # linear algebra\n",
    "import pandas as pd # data processing, CSV file I/O (e.g. pd.read_csv)\n",
    "\n",
    "# Input data files are available in the read-only \"../input/\" directory\n",
    "# For example, running this (by clicking run or pressing Shift+Enter) will list all files under the input directory\n",
    "\n",
    "import os\n",
    "for dirname, _, filenames in os.walk('/kaggle/input'):\n",
    "    for filename in filenames:\n",
    "        print(os.path.join(dirname, filename))\n",
    "\n",
    "# You can write up to 20GB to the current directory (/kaggle/working/) that gets preserved as output when you create a version using \"Save & Run All\" \n",
    "# You can also write temporary files to /kaggle/temp/, but they won't be saved outside of the current session\n"
   ]
  },
  {
   "cell_type": "code",
   "execution_count": 4,
   "id": "f7c9f0e7",
   "metadata": {
    "execution": {
     "iopub.execute_input": "2025-07-06T15:07:55.762625Z",
     "iopub.status.busy": "2025-07-06T15:07:55.761863Z",
     "iopub.status.idle": "2025-07-06T15:07:56.252295Z",
     "shell.execute_reply": "2025-07-06T15:07:56.251363Z"
    },
    "papermill": {
     "duration": 0.499147,
     "end_time": "2025-07-06T15:07:56.253909",
     "exception": false,
     "start_time": "2025-07-06T15:07:55.754762",
     "status": "completed"
    },
    "tags": []
   },
   "outputs": [],
   "source": [
    "import zipfile\n",
    "# Helper function to read zipped CSVs\n",
    "def read_zipped_csv(path):\n",
    "    with zipfile.ZipFile(path) as z:\n",
    "        file_name = z.namelist()[0]\n",
    "        return pd.read_csv(z.open(file_name))\n",
    "# Load data\n",
    "train_df = read_zipped_csv('/kaggle/input/walmart-recruiting-store-sales-forecasting/train.csv.zip')\n",
    "test_df = read_zipped_csv('/kaggle/input/walmart-recruiting-store-sales-forecasting/test.csv.zip')\n",
    "features_df = read_zipped_csv('/kaggle/input/walmart-recruiting-store-sales-forecasting/features.csv.zip')\n",
    "sample_submission_df = read_zipped_csv('/kaggle/input/walmart-recruiting-store-sales-forecasting/sampleSubmission.csv.zip')\n",
    "stores_df = pd.read_csv('/kaggle/input/walmart-recruiting-store-sales-forecasting/stores.csv')\n"
   ]
  },
  {
   "cell_type": "code",
   "execution_count": 5,
   "id": "eaefd4cd",
   "metadata": {
    "execution": {
     "iopub.execute_input": "2025-07-06T15:07:56.268301Z",
     "iopub.status.busy": "2025-07-06T15:07:56.267764Z",
     "iopub.status.idle": "2025-07-06T15:07:56.313538Z",
     "shell.execute_reply": "2025-07-06T15:07:56.312670Z"
    },
    "papermill": {
     "duration": 0.054423,
     "end_time": "2025-07-06T15:07:56.314943",
     "exception": false,
     "start_time": "2025-07-06T15:07:56.260520",
     "status": "completed"
    },
    "tags": []
   },
   "outputs": [
    {
     "name": "stdout",
     "output_type": "stream",
     "text": [
      "🧾 Train.csv\n",
      "['Store', 'Dept', 'Date', 'Weekly_Sales', 'IsHoliday']\n",
      "(421570, 5)\n"
     ]
    },
    {
     "data": {
      "text/html": [
       "<div>\n",
       "<style scoped>\n",
       "    .dataframe tbody tr th:only-of-type {\n",
       "        vertical-align: middle;\n",
       "    }\n",
       "\n",
       "    .dataframe tbody tr th {\n",
       "        vertical-align: top;\n",
       "    }\n",
       "\n",
       "    .dataframe thead th {\n",
       "        text-align: right;\n",
       "    }\n",
       "</style>\n",
       "<table border=\"1\" class=\"dataframe\">\n",
       "  <thead>\n",
       "    <tr style=\"text-align: right;\">\n",
       "      <th></th>\n",
       "      <th>Store</th>\n",
       "      <th>Dept</th>\n",
       "      <th>Date</th>\n",
       "      <th>Weekly_Sales</th>\n",
       "      <th>IsHoliday</th>\n",
       "    </tr>\n",
       "  </thead>\n",
       "  <tbody>\n",
       "    <tr>\n",
       "      <th>0</th>\n",
       "      <td>1</td>\n",
       "      <td>1</td>\n",
       "      <td>2010-02-05</td>\n",
       "      <td>24924.50</td>\n",
       "      <td>False</td>\n",
       "    </tr>\n",
       "    <tr>\n",
       "      <th>1</th>\n",
       "      <td>1</td>\n",
       "      <td>1</td>\n",
       "      <td>2010-02-12</td>\n",
       "      <td>46039.49</td>\n",
       "      <td>True</td>\n",
       "    </tr>\n",
       "    <tr>\n",
       "      <th>2</th>\n",
       "      <td>1</td>\n",
       "      <td>1</td>\n",
       "      <td>2010-02-19</td>\n",
       "      <td>41595.55</td>\n",
       "      <td>False</td>\n",
       "    </tr>\n",
       "    <tr>\n",
       "      <th>3</th>\n",
       "      <td>1</td>\n",
       "      <td>1</td>\n",
       "      <td>2010-02-26</td>\n",
       "      <td>19403.54</td>\n",
       "      <td>False</td>\n",
       "    </tr>\n",
       "    <tr>\n",
       "      <th>4</th>\n",
       "      <td>1</td>\n",
       "      <td>1</td>\n",
       "      <td>2010-03-05</td>\n",
       "      <td>21827.90</td>\n",
       "      <td>False</td>\n",
       "    </tr>\n",
       "  </tbody>\n",
       "</table>\n",
       "</div>"
      ],
      "text/plain": [
       "   Store  Dept        Date  Weekly_Sales  IsHoliday\n",
       "0      1     1  2010-02-05      24924.50      False\n",
       "1      1     1  2010-02-12      46039.49       True\n",
       "2      1     1  2010-02-19      41595.55      False\n",
       "3      1     1  2010-02-26      19403.54      False\n",
       "4      1     1  2010-03-05      21827.90      False"
      ]
     },
     "metadata": {},
     "output_type": "display_data"
    },
    {
     "name": "stdout",
     "output_type": "stream",
     "text": [
      "\n",
      "🧾 Features.csv\n",
      "['Store', 'Date', 'Temperature', 'Fuel_Price', 'MarkDown1', 'MarkDown2', 'MarkDown3', 'MarkDown4', 'MarkDown5', 'CPI', 'Unemployment', 'IsHoliday']\n",
      "(8190, 12)\n"
     ]
    },
    {
     "name": "stderr",
     "output_type": "stream",
     "text": [
      "/usr/local/lib/python3.11/dist-packages/pandas/io/formats/format.py:1458: RuntimeWarning: invalid value encountered in greater\n",
      "  has_large_values = (abs_vals > 1e6).any()\n",
      "/usr/local/lib/python3.11/dist-packages/pandas/io/formats/format.py:1459: RuntimeWarning: invalid value encountered in less\n",
      "  has_small_values = ((abs_vals < 10 ** (-self.digits)) & (abs_vals > 0)).any()\n",
      "/usr/local/lib/python3.11/dist-packages/pandas/io/formats/format.py:1459: RuntimeWarning: invalid value encountered in greater\n",
      "  has_small_values = ((abs_vals < 10 ** (-self.digits)) & (abs_vals > 0)).any()\n"
     ]
    },
    {
     "data": {
      "text/html": [
       "<div>\n",
       "<style scoped>\n",
       "    .dataframe tbody tr th:only-of-type {\n",
       "        vertical-align: middle;\n",
       "    }\n",
       "\n",
       "    .dataframe tbody tr th {\n",
       "        vertical-align: top;\n",
       "    }\n",
       "\n",
       "    .dataframe thead th {\n",
       "        text-align: right;\n",
       "    }\n",
       "</style>\n",
       "<table border=\"1\" class=\"dataframe\">\n",
       "  <thead>\n",
       "    <tr style=\"text-align: right;\">\n",
       "      <th></th>\n",
       "      <th>Store</th>\n",
       "      <th>Date</th>\n",
       "      <th>Temperature</th>\n",
       "      <th>Fuel_Price</th>\n",
       "      <th>MarkDown1</th>\n",
       "      <th>MarkDown2</th>\n",
       "      <th>MarkDown3</th>\n",
       "      <th>MarkDown4</th>\n",
       "      <th>MarkDown5</th>\n",
       "      <th>CPI</th>\n",
       "      <th>Unemployment</th>\n",
       "      <th>IsHoliday</th>\n",
       "    </tr>\n",
       "  </thead>\n",
       "  <tbody>\n",
       "    <tr>\n",
       "      <th>0</th>\n",
       "      <td>1</td>\n",
       "      <td>2010-02-05</td>\n",
       "      <td>42.31</td>\n",
       "      <td>2.572</td>\n",
       "      <td>NaN</td>\n",
       "      <td>NaN</td>\n",
       "      <td>NaN</td>\n",
       "      <td>NaN</td>\n",
       "      <td>NaN</td>\n",
       "      <td>211.096358</td>\n",
       "      <td>8.106</td>\n",
       "      <td>False</td>\n",
       "    </tr>\n",
       "    <tr>\n",
       "      <th>1</th>\n",
       "      <td>1</td>\n",
       "      <td>2010-02-12</td>\n",
       "      <td>38.51</td>\n",
       "      <td>2.548</td>\n",
       "      <td>NaN</td>\n",
       "      <td>NaN</td>\n",
       "      <td>NaN</td>\n",
       "      <td>NaN</td>\n",
       "      <td>NaN</td>\n",
       "      <td>211.242170</td>\n",
       "      <td>8.106</td>\n",
       "      <td>True</td>\n",
       "    </tr>\n",
       "    <tr>\n",
       "      <th>2</th>\n",
       "      <td>1</td>\n",
       "      <td>2010-02-19</td>\n",
       "      <td>39.93</td>\n",
       "      <td>2.514</td>\n",
       "      <td>NaN</td>\n",
       "      <td>NaN</td>\n",
       "      <td>NaN</td>\n",
       "      <td>NaN</td>\n",
       "      <td>NaN</td>\n",
       "      <td>211.289143</td>\n",
       "      <td>8.106</td>\n",
       "      <td>False</td>\n",
       "    </tr>\n",
       "    <tr>\n",
       "      <th>3</th>\n",
       "      <td>1</td>\n",
       "      <td>2010-02-26</td>\n",
       "      <td>46.63</td>\n",
       "      <td>2.561</td>\n",
       "      <td>NaN</td>\n",
       "      <td>NaN</td>\n",
       "      <td>NaN</td>\n",
       "      <td>NaN</td>\n",
       "      <td>NaN</td>\n",
       "      <td>211.319643</td>\n",
       "      <td>8.106</td>\n",
       "      <td>False</td>\n",
       "    </tr>\n",
       "    <tr>\n",
       "      <th>4</th>\n",
       "      <td>1</td>\n",
       "      <td>2010-03-05</td>\n",
       "      <td>46.50</td>\n",
       "      <td>2.625</td>\n",
       "      <td>NaN</td>\n",
       "      <td>NaN</td>\n",
       "      <td>NaN</td>\n",
       "      <td>NaN</td>\n",
       "      <td>NaN</td>\n",
       "      <td>211.350143</td>\n",
       "      <td>8.106</td>\n",
       "      <td>False</td>\n",
       "    </tr>\n",
       "  </tbody>\n",
       "</table>\n",
       "</div>"
      ],
      "text/plain": [
       "   Store        Date  Temperature  Fuel_Price  MarkDown1  MarkDown2  \\\n",
       "0      1  2010-02-05        42.31       2.572        NaN        NaN   \n",
       "1      1  2010-02-12        38.51       2.548        NaN        NaN   \n",
       "2      1  2010-02-19        39.93       2.514        NaN        NaN   \n",
       "3      1  2010-02-26        46.63       2.561        NaN        NaN   \n",
       "4      1  2010-03-05        46.50       2.625        NaN        NaN   \n",
       "\n",
       "   MarkDown3  MarkDown4  MarkDown5         CPI  Unemployment  IsHoliday  \n",
       "0        NaN        NaN        NaN  211.096358         8.106      False  \n",
       "1        NaN        NaN        NaN  211.242170         8.106       True  \n",
       "2        NaN        NaN        NaN  211.289143         8.106      False  \n",
       "3        NaN        NaN        NaN  211.319643         8.106      False  \n",
       "4        NaN        NaN        NaN  211.350143         8.106      False  "
      ]
     },
     "metadata": {},
     "output_type": "display_data"
    },
    {
     "name": "stdout",
     "output_type": "stream",
     "text": [
      "\n",
      "🧾 Stores.csv\n",
      "['Store', 'Type', 'Size']\n",
      "(45, 3)\n"
     ]
    },
    {
     "data": {
      "text/html": [
       "<div>\n",
       "<style scoped>\n",
       "    .dataframe tbody tr th:only-of-type {\n",
       "        vertical-align: middle;\n",
       "    }\n",
       "\n",
       "    .dataframe tbody tr th {\n",
       "        vertical-align: top;\n",
       "    }\n",
       "\n",
       "    .dataframe thead th {\n",
       "        text-align: right;\n",
       "    }\n",
       "</style>\n",
       "<table border=\"1\" class=\"dataframe\">\n",
       "  <thead>\n",
       "    <tr style=\"text-align: right;\">\n",
       "      <th></th>\n",
       "      <th>Store</th>\n",
       "      <th>Type</th>\n",
       "      <th>Size</th>\n",
       "    </tr>\n",
       "  </thead>\n",
       "  <tbody>\n",
       "    <tr>\n",
       "      <th>0</th>\n",
       "      <td>1</td>\n",
       "      <td>A</td>\n",
       "      <td>151315</td>\n",
       "    </tr>\n",
       "    <tr>\n",
       "      <th>1</th>\n",
       "      <td>2</td>\n",
       "      <td>A</td>\n",
       "      <td>202307</td>\n",
       "    </tr>\n",
       "    <tr>\n",
       "      <th>2</th>\n",
       "      <td>3</td>\n",
       "      <td>B</td>\n",
       "      <td>37392</td>\n",
       "    </tr>\n",
       "    <tr>\n",
       "      <th>3</th>\n",
       "      <td>4</td>\n",
       "      <td>A</td>\n",
       "      <td>205863</td>\n",
       "    </tr>\n",
       "    <tr>\n",
       "      <th>4</th>\n",
       "      <td>5</td>\n",
       "      <td>B</td>\n",
       "      <td>34875</td>\n",
       "    </tr>\n",
       "  </tbody>\n",
       "</table>\n",
       "</div>"
      ],
      "text/plain": [
       "   Store Type    Size\n",
       "0      1    A  151315\n",
       "1      2    A  202307\n",
       "2      3    B   37392\n",
       "3      4    A  205863\n",
       "4      5    B   34875"
      ]
     },
     "metadata": {},
     "output_type": "display_data"
    }
   ],
   "source": [
    "# Display columns and first few rows\n",
    "print(\"🧾 Train.csv\")\n",
    "print(train_df.columns.tolist())\n",
    "print(train_df.shape)\n",
    "display(train_df.head())\n",
    "\n",
    "print(\"\\n🧾 Features.csv\")\n",
    "print(features_df.columns.tolist())\n",
    "print(features_df.shape)\n",
    "display(features_df.head())\n",
    "\n",
    "print(\"\\n🧾 Stores.csv\")\n",
    "print(stores_df.columns.tolist())\n",
    "print(stores_df.shape)\n",
    "display(stores_df.head())\n"
   ]
  },
  {
   "cell_type": "code",
   "execution_count": 6,
   "id": "08efe970",
   "metadata": {
    "execution": {
     "iopub.execute_input": "2025-07-06T15:07:56.329925Z",
     "iopub.status.busy": "2025-07-06T15:07:56.329647Z",
     "iopub.status.idle": "2025-07-06T15:07:56.404963Z",
     "shell.execute_reply": "2025-07-06T15:07:56.403738Z"
    },
    "papermill": {
     "duration": 0.084355,
     "end_time": "2025-07-06T15:07:56.406352",
     "exception": false,
     "start_time": "2025-07-06T15:07:56.321997",
     "status": "completed"
    },
    "tags": []
   },
   "outputs": [
    {
     "name": "stdout",
     "output_type": "stream",
     "text": [
      "\n",
      "🔍 Unique values in train_df:\n",
      "----------------------------------------\n",
      "Store (45): Too many to display, showing first 10 -> [ 1  2  3  4  5  6  7  8  9 10]\n",
      "Dept (81): Too many to display, showing first 10 -> [ 1  2  3  4  5  6  7  8  9 10]\n",
      "Date (143): Too many to display, showing first 10 -> ['2010-02-05' '2010-02-12' '2010-02-19' '2010-02-26' '2010-03-05'\n",
      " '2010-03-12' '2010-03-19' '2010-03-26' '2010-04-02' '2010-04-09']\n",
      "Weekly_Sales (359464): Too many to display, showing first 10 -> [24924.5  46039.49 41595.55 19403.54 21827.9  21043.39 22136.64 26229.21\n",
      " 57258.43 42960.91]\n",
      "IsHoliday (2): [False  True]\n",
      "\n",
      "🔍 Unique values in features_df:\n",
      "----------------------------------------\n",
      "Store (45): Too many to display, showing first 10 -> [ 1  2  3  4  5  6  7  8  9 10]\n",
      "Date (182): Too many to display, showing first 10 -> ['2010-02-05' '2010-02-12' '2010-02-19' '2010-02-26' '2010-03-05'\n",
      " '2010-03-12' '2010-03-19' '2010-03-26' '2010-04-02' '2010-04-09']\n",
      "Temperature (4178): Too many to display, showing first 10 -> [42.31 38.51 39.93 46.63 46.5  57.79 54.58 51.45 62.27 65.86]\n",
      "Fuel_Price (1011): Too many to display, showing first 10 -> [2.572 2.548 2.514 2.561 2.625 2.667 2.72  2.732 2.719 2.77 ]\n",
      "MarkDown1 (4024): Too many to display, showing first 10 -> [     nan 10382.9   6074.12   410.31  5629.51  4640.65  5011.32  2725.36\n",
      "  5762.1   6277.39]\n",
      "MarkDown2 (2716): Too many to display, showing first 10 -> [         nan 6.115670e+03 2.543900e+02 9.800000e+01 6.800000e+01\n",
      " 1.900000e+01 6.700000e+01 4.048000e+01 4.601138e+04 2.181316e+04]\n",
      "MarkDown3 (2886): Too many to display, showing first 10 -> [         nan 2.150700e+02 5.198000e+01 5.580551e+04 1.398110e+03\n",
      " 1.050200e+02 3.473700e+02 6.347000e+02 2.603600e+02 1.431000e+02]\n",
      "MarkDown4 (3406): Too many to display, showing first 10 -> [    nan 2406.62  427.39    8.   2084.64 3639.42  225.79   24.9   983.65\n",
      " 1450.13]\n",
      "MarkDown5 (4046): Too many to display, showing first 10 -> [     nan  6551.42  5988.57   554.92 20475.32 14461.82  4011.37  2739.43\n",
      "  4735.78  8483.  ]\n",
      "CPI (2506): Too many to display, showing first 10 -> [211.0963582 211.2421698 211.2891429 211.3196429 211.3501429 211.3806429\n",
      " 211.215635  211.0180424 210.8204499 210.6228574]\n",
      "Unemployment (405): Too many to display, showing first 10 -> [8.106 7.808 7.787 7.838 7.742 7.682 7.962 7.866 7.348 7.143]\n",
      "IsHoliday (2): [False  True]\n",
      "\n",
      "🔍 Unique values in stores_df:\n",
      "----------------------------------------\n",
      "Store (45): Too many to display, showing first 10 -> [ 1  2  3  4  5  6  7  8  9 10]\n",
      "Type (3): ['A' 'B' 'C']\n",
      "Size (40): Too many to display, showing first 10 -> [151315 202307  37392 205863  34875 202505  70713 155078 125833 126512]\n"
     ]
    }
   ],
   "source": [
    "def display_unique_values(df, name=\"DataFrame\"):\n",
    "    print(f\"\\n🔍 Unique values in {name}:\\n\" + \"-\"*40)\n",
    "    for col in df.columns:\n",
    "        unique_vals = df[col].unique()\n",
    "        num_unique = len(unique_vals)\n",
    "        if num_unique <= 20:\n",
    "            print(f\"{col} ({num_unique}): {unique_vals}\")\n",
    "        else:\n",
    "            print(f\"{col} ({num_unique}): Too many to display, showing first 10 -> {unique_vals[:10]}\")\n",
    "\n",
    "# Apply to each dataset\n",
    "display_unique_values(train_df, \"train_df\")\n",
    "display_unique_values(features_df, \"features_df\")\n",
    "display_unique_values(stores_df, \"stores_df\")\n"
   ]
  },
  {
   "cell_type": "code",
   "execution_count": 7,
   "id": "b1101641",
   "metadata": {
    "execution": {
     "iopub.execute_input": "2025-07-06T15:07:56.422116Z",
     "iopub.status.busy": "2025-07-06T15:07:56.421274Z",
     "iopub.status.idle": "2025-07-06T15:07:58.941000Z",
     "shell.execute_reply": "2025-07-06T15:07:58.940149Z"
    },
    "papermill": {
     "duration": 2.528661,
     "end_time": "2025-07-06T15:07:58.942344",
     "exception": false,
     "start_time": "2025-07-06T15:07:56.413683",
     "status": "completed"
    },
    "tags": []
   },
   "outputs": [
    {
     "name": "stderr",
     "output_type": "stream",
     "text": [
      "/usr/local/lib/python3.11/dist-packages/seaborn/_oldcore.py:1119: FutureWarning: use_inf_as_na option is deprecated and will be removed in a future version. Convert inf values to NaN before operating instead.\n",
      "  with pd.option_context('mode.use_inf_as_na', True):\n"
     ]
    },
    {
     "data": {
      "image/png": "[encoded data removed]",
      "text/plain": [
       "<Figure size 1000x600 with 1 Axes>"
      ]
     },
     "metadata": {},
     "output_type": "display_data"
    }
   ],
   "source": [
    "import matplotlib.pyplot as plt\n",
    "import seaborn as sns\n",
    "\n",
    "# Fill NaNs first\n",
    "for i in range(1, 6):\n",
    "    features_df[f'MarkDown{i}'] = features_df[f'MarkDown{i}'].fillna(0)\n",
    "\n",
    "# Histogram example\n",
    "plt.figure(figsize=(10, 6))\n",
    "sns.histplot(features_df['MarkDown3'], bins=100, kde=True)\n",
    "plt.title(\"Distribution of MarkDown3\")\n",
    "plt.xlabel(\"Amount\")\n",
    "plt.ylabel(\"Frequency\")\n",
    "plt.show()"
   ]
  },
  {
   "cell_type": "code",
   "execution_count": 8,
   "id": "21dd4a71",
   "metadata": {
    "execution": {
     "iopub.execute_input": "2025-07-06T15:07:58.959879Z",
     "iopub.status.busy": "2025-07-06T15:07:58.958900Z",
     "iopub.status.idle": "2025-07-06T15:07:59.001352Z",
     "shell.execute_reply": "2025-07-06T15:07:59.000455Z"
    },
    "papermill": {
     "duration": 0.05233,
     "end_time": "2025-07-06T15:07:59.002691",
     "exception": false,
     "start_time": "2025-07-06T15:07:58.950361",
     "status": "completed"
    },
    "tags": []
   },
   "outputs": [
    {
     "name": "stdout",
     "output_type": "stream",
     "text": [
      "\n",
      "📋 Missing Values (%): train_df\n",
      "✅ No missing values.\n",
      "\n",
      "📋 Missing Values (%): features_df\n",
      "CPI: 7.14%\n",
      "Unemployment: 7.14%\n",
      "\n",
      "📋 Missing Values (%): stores_df\n",
      "✅ No missing values.\n"
     ]
    }
   ],
   "source": [
    "def show_null_percentages(df, name=\"DataFrame\"):\n",
    "    print(f\"\\n📋 Missing Values (%): {name}\")\n",
    "    null_percent = df.isnull().mean() * 100\n",
    "    null_percent = null_percent[null_percent > 0].sort_values(ascending=False)\n",
    "    \n",
    "    if null_percent.empty:\n",
    "        print(\"✅ No missing values.\")\n",
    "    else:\n",
    "        for col, pct in null_percent.items():\n",
    "            print(f\"{col}: {pct:.2f}%\")\n",
    "\n",
    "# Apply to each dataset\n",
    "show_null_percentages(train_df, \"train_df\")\n",
    "show_null_percentages(features_df, \"features_df\")\n",
    "show_null_percentages(stores_df, \"stores_df\") \n"
   ]
  },
  {
   "cell_type": "code",
   "execution_count": 9,
   "id": "368be58c",
   "metadata": {
    "execution": {
     "iopub.execute_input": "2025-07-06T15:07:59.020188Z",
     "iopub.status.busy": "2025-07-06T15:07:59.019598Z",
     "iopub.status.idle": "2025-07-06T15:07:59.332741Z",
     "shell.execute_reply": "2025-07-06T15:07:59.331841Z"
    },
    "papermill": {
     "duration": 0.323879,
     "end_time": "2025-07-06T15:07:59.334385",
     "exception": false,
     "start_time": "2025-07-06T15:07:59.010506",
     "status": "completed"
    },
    "tags": []
   },
   "outputs": [],
   "source": [
    "# Merge train with features and stores\n",
    "train_full = train_df.merge(features_df, on=[\"Store\", \"Date\"], how=\"left\")\n",
    "train_full = train_full.merge(stores_df, on=\"Store\", how=\"left\")\n",
    "train_full = train_full.drop(columns=['IsHoliday_y'])\n",
    "train_full = train_full.rename(columns={'IsHoliday_x': 'IsHoliday'}) \n"
   ]
  },
  {
   "cell_type": "code",
   "execution_count": 10,
   "id": "38a50844",
   "metadata": {
    "execution": {
     "iopub.execute_input": "2025-07-06T15:07:59.350931Z",
     "iopub.status.busy": "2025-07-06T15:07:59.350557Z",
     "iopub.status.idle": "2025-07-06T15:07:59.516954Z",
     "shell.execute_reply": "2025-07-06T15:07:59.516058Z"
    },
    "papermill": {
     "duration": 0.176636,
     "end_time": "2025-07-06T15:07:59.518799",
     "exception": false,
     "start_time": "2025-07-06T15:07:59.342163",
     "status": "completed"
    },
    "tags": []
   },
   "outputs": [
    {
     "name": "stderr",
     "output_type": "stream",
     "text": [
      "/tmp/ipykernel_13/869616239.py:11: FutureWarning: Series.fillna with 'method' is deprecated and will raise in a future version. Use obj.ffill() or obj.bfill() instead.\n",
      "  train_full['CPI'] = train_full['CPI'].fillna(method='ffill')\n",
      "/tmp/ipykernel_13/869616239.py:12: FutureWarning: Series.fillna with 'method' is deprecated and will raise in a future version. Use obj.ffill() or obj.bfill() instead.\n",
      "  train_full['Unemployment'] = train_full['Unemployment'].fillna(method='ffill')\n"
     ]
    }
   ],
   "source": [
    "# Convert date to datetime\n",
    "train_full['Date'] = pd.to_datetime(train_full['Date'])\n",
    "\n",
    "# Extract useful features\n",
    "train_full['Year'] = train_full['Date'].dt.year\n",
    "train_full['Month'] = train_full['Date'].dt.month\n",
    "train_full['Week'] = train_full['Date'].dt.isocalendar().week.astype(int)\n",
    "train_full['Day'] = train_full['Date'].dt.day\n",
    "train_full['IsHoliday'] = train_full['IsHoliday'].astype(int)  # convert bool to int\n",
    "\n",
    "train_full['CPI'] = train_full['CPI'].fillna(method='ffill')\n",
    "train_full['Unemployment'] = train_full['Unemployment'].fillna(method='ffill')\n",
    "\n",
    "# Encode 'Type' (store type) as numeric\n",
    "train_full['Type'] = train_full['Type'].map({'A': 0, 'B': 1, 'C': 2})\n"
   ]
  },
  {
   "cell_type": "code",
   "execution_count": 11,
   "id": "91e3e65e",
   "metadata": {
    "execution": {
     "iopub.execute_input": "2025-07-06T15:07:59.543704Z",
     "iopub.status.busy": "2025-07-06T15:07:59.543327Z",
     "iopub.status.idle": "2025-07-06T15:07:59.568952Z",
     "shell.execute_reply": "2025-07-06T15:07:59.568072Z"
    },
    "papermill": {
     "duration": 0.038736,
     "end_time": "2025-07-06T15:07:59.571016",
     "exception": false,
     "start_time": "2025-07-06T15:07:59.532280",
     "status": "completed"
    },
    "tags": []
   },
   "outputs": [],
   "source": [
    "# Simple baseline feature set\n",
    "feature_cols = [\n",
    "    'Store', 'Dept', 'Type', 'Size',\n",
    "    'Temperature', 'Fuel_Price', 'CPI', 'Unemployment',\n",
    "    'MarkDown1', 'MarkDown2', 'MarkDown3', 'MarkDown4', 'MarkDown5',\n",
    "    'IsHoliday', 'Year', 'Month', 'Week'\n",
    "]\n",
    "\n",
    "X = train_full[feature_cols]\n",
    "y = train_full['Weekly_Sales']\n"
   ]
  },
  {
   "cell_type": "code",
   "execution_count": 12,
   "id": "ed0e3587",
   "metadata": {
    "execution": {
     "iopub.execute_input": "2025-07-06T15:07:59.593523Z",
     "iopub.status.busy": "2025-07-06T15:07:59.593222Z",
     "iopub.status.idle": "2025-07-06T15:07:59.905963Z",
     "shell.execute_reply": "2025-07-06T15:07:59.904342Z"
    },
    "papermill": {
     "duration": 0.323685,
     "end_time": "2025-07-06T15:07:59.908036",
     "exception": false,
     "start_time": "2025-07-06T15:07:59.584351",
     "status": "completed"
    },
    "tags": []
   },
   "outputs": [
    {
     "name": "stderr",
     "output_type": "stream",
     "text": [
      "/tmp/ipykernel_13/1982759170.py:4: UserWarning: Boolean Series key will be reindexed to match DataFrame index.\n",
      "  X_train = X[train_full['Date'] < split_date]\n",
      "/tmp/ipykernel_13/1982759170.py:6: UserWarning: Boolean Series key will be reindexed to match DataFrame index.\n",
      "  X_val = X[train_full['Date'] >= split_date]\n"
     ]
    }
   ],
   "source": [
    " train_full = train_full.sort_values('Date')\n",
    "# Use 90% of data for training, 10% for validation\n",
    "split_date = train_full['Date'].quantile(0.9)\n",
    "X_train = X[train_full['Date'] < split_date]\n",
    "y_train = y[train_full['Date'] < split_date]\n",
    "X_val = X[train_full['Date'] >= split_date]\n",
    "y_val = y[train_full['Date'] >= split_date]\n",
    "is_holiday_val = train_full[train_full['Date'] >= split_date]['IsHoliday']"
   ]
  },
  {
   "cell_type": "code",
   "execution_count": 13,
   "id": "39f4d49c",
   "metadata": {
    "execution": {
     "iopub.execute_input": "2025-07-06T15:07:59.933045Z",
     "iopub.status.busy": "2025-07-06T15:07:59.932663Z",
     "iopub.status.idle": "2025-07-06T15:08:12.195268Z",
     "shell.execute_reply": "2025-07-06T15:08:12.193794Z"
    },
    "papermill": {
     "duration": 12.277405,
     "end_time": "2025-07-06T15:08:12.197187",
     "exception": false,
     "start_time": "2025-07-06T15:07:59.919782",
     "status": "completed"
    },
    "tags": []
   },
   "outputs": [
    {
     "name": "stdout",
     "output_type": "stream",
     "text": [
      "Validation MAE: 3649.60\n",
      "Validation WMAE: 3859.95\n",
      "🏃 View run XGBoost_Training at: https://dagshub.com/AleksandreBakhtadze/ML-FinalProject-Walmart-Recruiting---Store-Sales-Forecasting.mlflow/#/experiments/1/runs/06d602e66dd14c34b4fbe1e8c9cbd324\n",
      "🧪 View experiment at: https://dagshub.com/AleksandreBakhtadze/ML-FinalProject-Walmart-Recruiting---Store-Sales-Forecasting.mlflow/#/experiments/1\n"
     ]
    },
    {
     "name": "stderr",
     "output_type": "stream",
     "text": [
      "Registered model 'Best_Walmart_Sales_Model' already exists. Creating a new version of this model...\n"
     ]
    },
    {
     "name": "stdout",
     "output_type": "stream",
     "text": [
      "Model registration failed: INTERNAL_ERROR: Response: {'error': 'unsupported endpoint, please contact support@dagshub.com'}. Using local model file: /kaggle/working/models/xgboost_model.json\n",
      "Contact support@dagshub.com for assistance with Model Registry.\n"
     ]
    }
   ],
   "source": [
    "# Cell 17: Train and Evaluate Model\n",
    "import os\n",
    "import mlflow\n",
    "from sklearn.metrics import mean_absolute_error\n",
    "import numpy as np\n",
    "from xgboost import XGBRegressor\n",
    "from kaggle_secrets import UserSecretsClient\n",
    "\n",
    "\n",
    "os.environ['MLFLOW_TRACKING_URI'] = 'https://dagshub.com/AleksandreBakhtadze/ML-FinalProject-Walmart-Recruiting---Store-Sales-Forecasting.mlflow'\n",
    "os.environ['MLFLOW_TRACKING_USERNAME'] = 'AleksandreBakhtadze'\n",
    "os.environ['MLFLOW_TRACKING_PASSWORD'] = '034b77b38fbceb0a45865e04299f524469d930d4'\n",
    "\n",
    "def calculate_wmae(y_true, y_pred, is_holiday):\n",
    "    weights = np.where(is_holiday, 5, 1)\n",
    "    return np.sum(weights * np.abs(y_true - y_pred)) / np.sum(weights)\n",
    "\n",
    "# End any active run to prevent conflicts\n",
    "if mlflow.active_run():\n",
    "    mlflow.end_run()\n",
    "\n",
    "# Set experiment\n",
    "mlflow.set_experiment(\"XGBoost_Experiment\")\n",
    "\n",
    "with mlflow.start_run(run_name=\"XGBoost_Training\"):\n",
    "    # Define model and parameters\n",
    "    n_estimators = 100\n",
    "    learning_rate = 0.1\n",
    "    random_state = 42\n",
    "    model = XGBRegressor(\n",
    "        n_estimators=n_estimators,\n",
    "        learning_rate=learning_rate,\n",
    "        random_state=random_state,\n",
    "        n_jobs=-1\n",
    "    )\n",
    "\n",
    "    # Train model\n",
    "    model.fit(X_train, y_train)\n",
    "\n",
    "    # Predict on validation set\n",
    "    y_pred = model.predict(X_val)\n",
    "\n",
    "    # Evaluate using MAE and WMAE\n",
    "    mae = mean_absolute_error(y_val, y_pred)\n",
    "    wmae = calculate_wmae(y_val, y_pred, is_holiday_val)\n",
    "    print(f\"Validation MAE: {mae:.2f}\")\n",
    "    print(f\"Validation WMAE: {wmae:.2f}\")\n",
    "\n",
    "    # Log parameters and metrics\n",
    "    mlflow.log_param(\"n_estimators\", n_estimators)\n",
    "    mlflow.log_param(\"learning_rate\", learning_rate)\n",
    "    mlflow.log_param(\"random_state\", random_state)\n",
    "    mlflow.log_metric(\"val_mae\", mae)\n",
    "    mlflow.log_metric(\"val_wmae\", wmae)\n",
    "\n",
    "    # Create models directory\n",
    "    os.makedirs(\"/kaggle/working/models\", exist_ok=True)\n",
    "\n",
    "    # Save model in JSON format\n",
    "    model_path = \"/kaggle/working/models/xgboost_model.json\"\n",
    "    model.save_model(model_path)\n",
    "    mlflow.log_artifact(model_path)\n",
    "\n",
    "    # Note: Skipping mlflow.xgboost.log_model due to DagsHub's unsupported endpoint\n",
    "    # Model is saved as artifact and can be registered manually if needed\n",
    "\n",
    "    # Get run ID for manual registration\n",
    "    run_id = mlflow.active_run().info.run_id\n",
    "\n",
    "# Manually register the model (workaround for DagsHub limitation)\n",
    "try:\n",
    "    model_uri = f\"runs:/{run_id}/xgboost_model\"\n",
    "    mlflow.register_model(model_uri, \"Best_Walmart_Sales_Model\")\n",
    "    print(\"Model registered successfully as 'Best_Walmart_Sales_Model'\")\n",
    "except mlflow.exceptions.RestException as e:\n",
    "    print(f\"Model registration failed: {e}. Using local model file: {model_path}\")\n",
    "    print(\"Contact support@dagshub.com for assistance with Model Registry.\")"
   ]
  },
  {
   "cell_type": "code",
   "execution_count": 14,
   "id": "6fa47be8",
   "metadata": {
    "execution": {
     "iopub.execute_input": "2025-07-06T15:08:12.216526Z",
     "iopub.status.busy": "2025-07-06T15:08:12.215817Z",
     "iopub.status.idle": "2025-07-06T15:08:12.479639Z",
     "shell.execute_reply": "2025-07-06T15:08:12.478567Z"
    },
    "papermill": {
     "duration": 0.275588,
     "end_time": "2025-07-06T15:08:12.481444",
     "exception": false,
     "start_time": "2025-07-06T15:08:12.205856",
     "status": "completed"
    },
    "tags": []
   },
   "outputs": [
    {
     "name": "stderr",
     "output_type": "stream",
     "text": [
      "/tmp/ipykernel_13/1010166950.py:24: FutureWarning: Series.fillna with 'method' is deprecated and will raise in a future version. Use obj.ffill() or obj.bfill() instead.\n",
      "  test_full['CPI'] = test_full['CPI'].fillna(method='ffill')\n",
      "/tmp/ipykernel_13/1010166950.py:25: FutureWarning: Series.fillna with 'method' is deprecated and will raise in a future version. Use obj.ffill() or obj.bfill() instead.\n",
      "  test_full['Unemployment'] = test_full['Unemployment'].fillna(method='ffill')\n"
     ]
    }
   ],
   "source": [
    "# Merge test with features and stores\n",
    "test_full = test_df.merge(features_df, on=[\"Store\", \"Date\"], how=\"left\")\n",
    "test_full = test_full.merge(stores_df, on=\"Store\", how=\"left\")\n",
    "\n",
    "# Fix IsHoliday (same as before)\n",
    "test_full = test_full.drop(columns=['IsHoliday_y'])\n",
    "test_full = test_full.rename(columns={'IsHoliday_x': 'IsHoliday'})\n",
    "\n",
    "# Convert Date column to datetime\n",
    "test_full['Date'] = pd.to_datetime(test_full['Date'])\n",
    "\n",
    "# Extract date features\n",
    "test_full['Year'] = test_full['Date'].dt.year\n",
    "test_full['Month'] = test_full['Date'].dt.month\n",
    "test_full['Week'] = test_full['Date'].dt.isocalendar().week.astype(int)\n",
    "test_full['Day'] = test_full['Date'].dt.day\n",
    "test_full['IsHoliday'] = test_full['IsHoliday'].astype(int)\n",
    "\n",
    "# Fill missing markdowns with 0\n",
    "for i in range(1, 6):\n",
    "    test_full[f'MarkDown{i}'] = test_full[f'MarkDown{i}'].fillna(0)\n",
    "\n",
    "# Fill CPI and Unemployment (use forward fill like in train)\n",
    "test_full['CPI'] = test_full['CPI'].fillna(method='ffill')\n",
    "test_full['Unemployment'] = test_full['Unemployment'].fillna(method='ffill')\n",
    "\n",
    "# Encode store Type\n",
    "test_full['Type'] = test_full['Type'].map({'A': 0, 'B': 1, 'C': 2})\n",
    "\n",
    "X_test = test_full[feature_cols]\n",
    "# Make predictions\n",
    "test_preds = model.predict(X_test)\n",
    "\n"
   ]
  },
  {
   "cell_type": "code",
   "execution_count": 15,
   "id": "52e99a4c",
   "metadata": {
    "execution": {
     "iopub.execute_input": "2025-07-06T15:08:12.499403Z",
     "iopub.status.busy": "2025-07-06T15:08:12.499044Z",
     "iopub.status.idle": "2025-07-06T15:08:15.427933Z",
     "shell.execute_reply": "2025-07-06T15:08:15.426908Z"
    },
    "papermill": {
     "duration": 2.940009,
     "end_time": "2025-07-06T15:08:15.429874",
     "exception": false,
     "start_time": "2025-07-06T15:08:12.489865",
     "status": "completed"
    },
    "tags": []
   },
   "outputs": [],
   "source": [
    "# Build 'Id' column: Store_Dept_Date\n",
    "test_full['Id'] = test_full['Store'].astype(str) + '_' + \\\n",
    "                  test_full['Dept'].astype(str) + '_' + \\\n",
    "                  test_full['Date'].dt.strftime('%Y-%m-%d')\n",
    "\n",
    "# Add predictions\n",
    "submission_df = pd.DataFrame({\n",
    "    'Id': test_full['Id'],\n",
    "    'Weekly_Sales': test_preds\n",
    "})\n",
    "\n",
    "# Save submission\n",
    "submission_df.to_csv(\"submission.csv\", index=False)\n",
    "\n",
    "# Log predictions as artifact\n",
    "mlflow.log_artifact(\"submission.csv\")\n"
   ]
  },
  {
   "cell_type": "code",
   "execution_count": null,
   "id": "1e24c7d0",
   "metadata": {
    "papermill": {
     "duration": 0.00874,
     "end_time": "2025-07-06T15:08:15.447330",
     "exception": false,
     "start_time": "2025-07-06T15:08:15.438590",
     "status": "completed"
    },
    "tags": []
   },
   "outputs": [],
   "source": []
  }
 ],
 "metadata": {
  "kaggle": {
   "accelerator": "none",
   "dataSources": [
    {
     "databundleVersionId": 32105,
     "sourceId": 3816,
     "sourceType": "competition"
    }
   ],
   "dockerImageVersionId": 31040,
   "isGpuEnabled": false,
   "isInternetEnabled": true,
   "language": "python",
   "sourceType": "notebook"
  },
  "kernelspec": {
   "display_name": "Python 3",
   "language": "python",
   "name": "python3"
  },
  "language_info": {
   "codemirror_mode": {
    "name": "ipython",
    "version": 3
   },
   "file_extension": ".py",
   "mimetype": "text/x-python",
   "name": "python",
   "nbconvert_exporter": "python",
   "pygments_lexer": "ipython3",
   "version": "3.11.11"
  },
  "papermill": {
   "default_parameters": {},
   "duration": 65.097773,
   "end_time": "2025-07-06T15:08:18.075283",
   "environment_variables": {},
   "exception": null,
   "input_path": "__notebook__.ipynb",
   "output_path": "__notebook__.ipynb",
   "parameters": {},
   "start_time": "2025-07-06T15:07:12.977510",
   "version": "2.6.0"
  },
  "widgets": {
   "application/vnd.jupyter.widget-state+json": {
    "state": {
     "2b8a9e285c354ead992787182d5ef8fb": {
      "model_module": "@jupyter-widgets/base",
      "model_module_version": "2.0.0",
      "model_name": "LayoutModel",
      "state": {
       "_model_module": "@jupyter-widgets/base",
       "_model_module_version": "2.0.0",
       "_model_name": "LayoutModel",
       "_view_count": null,
       "_view_module": "@jupyter-widgets/base",
       "_view_module_version": "2.0.0",
       "_view_name": "LayoutView",
       "align_content": null,
       "align_items": null,
       "align_self": null,
       "border_bottom": null,
       "border_left": null,
       "border_right": null,
       "border_top": null,
       "bottom": null,
       "display": null,
       "flex": null,
       "flex_flow": null,
       "grid_area": null,
       "grid_auto_columns": null,
       "grid_auto_flow": null,
       "grid_auto_rows": null,
       "grid_column": null,
       "grid_gap": null,
       "grid_row": null,
       "grid_template_areas": null,
       "grid_template_columns": null,
       "grid_template_rows": null,
       "height": null,
       "justify_content": null,
       "justify_items": null,
       "left": null,
       "margin": null,
       "max_height": null,
       "max_width": null,
       "min_height": null,
       "min_width": null,
       "object_fit": null,
       "object_position": null,
       "order": null,
       "overflow": null,
       "padding": null,
       "right": null,
       "top": null,
       "visibility": null,
       "width": null
      }
     },
     "a773be6cc9b64dafa29f32083ba840d0": {
      "model_module": "@jupyter-widgets/output",
      "model_module_version": "1.0.0",
      "model_name": "OutputModel",
      "state": {
       "_dom_classes": [],
       "_model_module": "@jupyter-widgets/output",
       "_model_module_version": "1.0.0",
       "_model_name": "OutputModel",
       "_view_count": null,
       "_view_module": "@jupyter-widgets/output",
       "_view_module_version": "1.0.0",
       "_view_name": "OutputView",
       "layout": "IPY_MODEL_2b8a9e285c354ead992787182d5ef8fb",
       "msg_id": "",
       "outputs": [
        {
         "data": {
          "text/html": "<pre style=\"white-space:pre;overflow-x:auto;line-height:normal;font-family:Menlo,'DejaVu Sans Mono',consolas,'Courier New',monospace\"><span style=\"color: #008000; text-decoration-color: #008000\">⠼</span> Waiting for authorization\n</pre>\n",
          "text/plain": "\u001b[32m⠼\u001b[0m Waiting for authorization\n"
         },
         "metadata": {},
         "output_type": "display_data"
        }
       ],
       "tabbable": null,
       "tooltip": null
      }
     }
    },
    "version_major": 2,
    "version_minor": 0
   }
  }
 },
 "nbformat": 4,
 "nbformat_minor": 5
}
